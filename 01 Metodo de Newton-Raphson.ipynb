{
 "cells": [
  {
   "cell_type": "markdown",
   "metadata": {},
   "source": [
    "Escriba en un notebook de jupyter una explicación del método de NewtonRaphson.\n",
    "Asuma que los estudiantes ya saben usar numpy y matplotlib.\n",
    "Asuma que los estudiantes ya vieron cálculo diferencial pero todavía no\n",
    "han visto cómo derivar numéricamente. Como explicación de los conceptos\n",
    "incluya en el notebook un ejemplo para encontrar numéricamente las tres\n",
    "raíces del polinomio de tercer grado f(x) = (x + 2)(x − 2)(x − 4).\n"
   ]
  },
  {
   "cell_type": "markdown",
   "metadata": {},
   "source": [
    "# Método de Newton-Raphson\n",
    "\n",
    "En física podemos encontrar problemas donde necesitamos hallar en qué puntos una función $f(x)$ se hace igual a cero. Como habrán visto en su curso de cálculo, saber cuándo se hace cero una función nos permite hallar puntos críticos donde el sistema descrito por la función sufre algún cambio, o por ejemplo cuando queremos optimizar un sistema (Ej: maximizar el volumen de una caja construída con una hoja de papel). "
   ]
  },
  {
   "cell_type": "markdown",
   "metadata": {},
   "source": [
    "## Ejemplo en física:\n",
    "\n",
    "Una pelota es lanzada hacia arriba con una velocidad inicial $v=20 \\rm{m/s}$. Encontrar en qué momento la pelota alcanza la altura máxima.\n",
    "\n",
    "Para un movimiento parabólico, la posición de la pelota en función del tiempo viene descrita por la ecuación de movimiento de movimiento rectilíneo uniforme:\n",
    "\n",
    "\\begin{equation}\n",
    "    x(t) = x_0 + v_0 t - \\frac{1}{2} g t^2\n",
    "\\end{equation}\n",
    "\n",
    "El cambio de la posición respecto al tiempo es la velocidad:\n",
    "\n",
    "\\begin{equation}\n",
    "   \\frac{d x(t)}{dt} = v_0 - g t\n",
    "\\end{equation}\n",
    "\n",
    "Y sabemos que en el punto más alto la velocidad cambia, pasa de ser positiva a ser negativa. En ese momento la velocidad es cero.\n",
    "\n",
    "\\begin{equation}\n",
    "   0 = v_0 - g t\n",
    "\\end{equation}\n",
    "\n",
    "Despejando t:\n",
    "\n",
    "\\begin{equation}\n",
    "   t = \\frac{v_0}{g}\n",
    "\\end{equation}\n",
    "\n",
    "Si $g = 9.8 \\rm{m/s^2}$"
   ]
  },
  {
   "cell_type": "code",
   "execution_count": 1,
   "metadata": {},
   "outputs": [
    {
     "name": "stdout",
     "output_type": "stream",
     "text": [
      "2.0408163265306123\n"
     ]
    }
   ],
   "source": [
    "t = 20 / 9.8\n",
    "\n",
    "print(t)"
   ]
  },
  {
   "cell_type": "markdown",
   "metadata": {},
   "source": [
    "En 2.04 segundos la pelota habrá alcanzado la altura máxima.\n",
    "\n",
    "Pero, ¿qué pasa cuando tenemos funciones más complejas que no podemos resolver analíticamente?\n",
    "\n",
    "El método de Newton-Raphson nos permite resolver este tipo de problemas.\n",
    "\n",
    "# Método de Newton-Raphson\n",
    "\n",
    "Tenemos una función $f(x)$ de la cuál queremos encontrar sus raíces.\n",
    "\n",
    "\\begin{equation}\n",
    "    f(x) =  (x + 2)(x − 2)(x − 4)\n",
    "\\end{equation}\n",
    "\n",
    "Este es un polinomio de grado 3 que se encuentra factorizado, por inspección podemos ver que se anula en $x=-2$, $2$ y $4$.\n",
    "\n",
    "Vamos a graficarlo:\n",
    "\n",
    "\n"
   ]
  },
  {
   "cell_type": "code",
   "execution_count": 2,
   "metadata": {},
   "outputs": [
    {
     "name": "stdout",
     "output_type": "stream",
     "text": [
      "Populating the interactive namespace from numpy and matplotlib\n"
     ]
    }
   ],
   "source": [
    "%pylab inline"
   ]
  },
  {
   "cell_type": "code",
   "execution_count": 3,
   "metadata": {},
   "outputs": [],
   "source": [
    "# Definamos x entre -3 y +5\n",
    "x = linspace(-3,5,100)"
   ]
  },
  {
   "cell_type": "code",
   "execution_count": 4,
   "metadata": {},
   "outputs": [],
   "source": [
    "# Definimos nuestra función\n",
    "\n",
    "def f(x):\n",
    "    return (x+2)*(x-2)*(x-4)"
   ]
  },
  {
   "cell_type": "code",
   "execution_count": 5,
   "metadata": {},
   "outputs": [
    {
     "data": {
      "text/plain": [
       "<matplotlib.lines.Line2D at 0x7f772a0505c0>"
      ]
     },
     "execution_count": 5,
     "metadata": {},
     "output_type": "execute_result"
    },
    {
     "data": {
      "image/png": "[encoded data removed]",
      "text/plain": [
       "<Figure size 432x288 with 1 Axes>"
      ]
     },
     "metadata": {
      "needs_background": "light"
     },
     "output_type": "display_data"
    }
   ],
   "source": [
    "plot(x,f(x))\n",
    "plt.axhline(0, color=\"black\")"
   ]
  },
  {
   "cell_type": "markdown",
   "metadata": {},
   "source": [
    "Para buscar un cero, definimos un valor inicial $x_0$ cercano a donde vemos que está la raíz de la función.\n",
    "\n",
    "Vamos a buscar la raiz arrancando en $x_0= 1.0$"
   ]
  },
  {
   "cell_type": "code",
   "execution_count": 31,
   "metadata": {},
   "outputs": [],
   "source": [
    "x_0 = 1"
   ]
  },
  {
   "cell_type": "code",
   "execution_count": 32,
   "metadata": {},
   "outputs": [
    {
     "data": {
      "text/plain": [
       "<matplotlib.collections.PathCollection at 0x7f7727a92208>"
      ]
     },
     "execution_count": 32,
     "metadata": {},
     "output_type": "execute_result"
    },
    {
     "data": {
      "image/png": "[encoded data removed]",
      "text/plain": [
       "<Figure size 432x288 with 1 Axes>"
      ]
     },
     "metadata": {
      "needs_background": "light"
     },
     "output_type": "display_data"
    }
   ],
   "source": [
    "plot(x,f(x))\n",
    "plt.axhline(0, color=\"black\")\n",
    "scatter(x_0, f(x_0), color=\"red\")"
   ]
  },
  {
   "cell_type": "markdown",
   "metadata": {},
   "source": [
    "A ojo vemos que la raíz está a la derecha.\n",
    "\n",
    "El método de Newton-Raphson nos dice que para desplazarnos hacia la raíz desde nuestro punto actual nos movemos una distancia $s$ dada por:\n",
    "\n",
    "$x = x_0 - \\frac{f(x_0)}{f'(x_0)}$\n",
    "\n",
    "\n",
    "No conocemos la derivada de la función, pero podemos calcularla recordando la definición de derivada:\n",
    "\n",
    "\n",
    "\\begin{equation}\n",
    "    \\lim_{\\epsilon \\rightarrow 0} \\frac{f(x+\\epsilon)-f(x)}{(x+\\epsilon) - x}\n",
    "\\end{equation}\n",
    "\n"
   ]
  },
  {
   "cell_type": "code",
   "execution_count": 33,
   "metadata": {},
   "outputs": [],
   "source": [
    "epsilon = 0.1"
   ]
  },
  {
   "cell_type": "markdown",
   "metadata": {},
   "source": [
    "Definamos cómo se calcula la derivada de $f(x)$ con este parámetro $\\epsilon$"
   ]
  },
  {
   "cell_type": "code",
   "execution_count": 34,
   "metadata": {},
   "outputs": [],
   "source": [
    "def derivada_f(x, epsilon):\n",
    "    return ( f(x+epsilon) - f(x) ) / epsilon"
   ]
  },
  {
   "cell_type": "markdown",
   "metadata": {},
   "source": [
    "Nos deberíamos desplazar hacia $x_1$ que se encuentra en:"
   ]
  },
  {
   "cell_type": "code",
   "execution_count": 35,
   "metadata": {},
   "outputs": [
    {
     "name": "stdout",
     "output_type": "stream",
     "text": [
      "1.9900990099009892\n"
     ]
    }
   ],
   "source": [
    "x_1 = x_0 - f(x_0)/ derivada_f(x_0,epsilon)\n",
    "\n",
    "print(x_1)"
   ]
  },
  {
   "cell_type": "code",
   "execution_count": 36,
   "metadata": {},
   "outputs": [
    {
     "data": {
      "text/plain": [
       "<matplotlib.collections.PathCollection at 0x7f77279fbbe0>"
      ]
     },
     "execution_count": 36,
     "metadata": {},
     "output_type": "execute_result"
    },
    {
     "data": {
      "image/png": "[encoded data removed]",
      "text/plain": [
       "<Figure size 432x288 with 1 Axes>"
      ]
     },
     "metadata": {
      "needs_background": "light"
     },
     "output_type": "display_data"
    }
   ],
   "source": [
    "plot(x,f(x))\n",
    "plt.axhline(0, color=\"black\")\n",
    "scatter(x_0, f(x_0), color=\"red\")\n",
    "scatter(x_1, f(x_1), color=\"blue\")"
   ]
  },
  {
   "cell_type": "markdown",
   "metadata": {},
   "source": [
    "¿Qué tan cerca quedamos?\n",
    "Al evaluar f(x_1) tenemos"
   ]
  },
  {
   "cell_type": "code",
   "execution_count": 37,
   "metadata": {},
   "outputs": [
    {
     "data": {
      "text/plain": [
       "0.07940300941181988"
      ]
     },
     "execution_count": 37,
     "metadata": {},
     "output_type": "execute_result"
    }
   ],
   "source": [
    "f(x_1)"
   ]
  },
  {
   "cell_type": "markdown",
   "metadata": {},
   "source": [
    "Queremos que este valor sea cero. Podemos acercarnos a este valor tanto como queramos, así que podríamos repetir el método para estar cada vez más cerca.\n"
   ]
  },
  {
   "cell_type": "markdown",
   "metadata": {},
   "source": [
    "Si queremos mejorar nuestra precisión, repetimos:"
   ]
  },
  {
   "cell_type": "code",
   "execution_count": 39,
   "metadata": {},
   "outputs": [
    {
     "name": "stdout",
     "output_type": "stream",
     "text": [
      "2.000236927302111\n"
     ]
    }
   ],
   "source": [
    "x_2 = x_1 - f(x_1)/ derivada_f(x_1,epsilon)\n",
    "\n",
    "print(x_2)"
   ]
  },
  {
   "cell_type": "code",
   "execution_count": 40,
   "metadata": {},
   "outputs": [
    {
     "data": {
      "text/plain": [
       "<matplotlib.collections.PathCollection at 0x7f77278df8d0>"
      ]
     },
     "execution_count": 40,
     "metadata": {},
     "output_type": "execute_result"
    },
    {
     "data": {
      "image/png": "[encoded data removed]",
      "text/plain": [
       "<Figure size 432x288 with 1 Axes>"
      ]
     },
     "metadata": {
      "needs_background": "light"
     },
     "output_type": "display_data"
    }
   ],
   "source": [
    "plot(x,f(x))\n",
    "plt.axhline(0, color=\"black\")\n",
    "scatter(x_0, f(x_0), color=\"red\")\n",
    "scatter(x_1, f(x_1), color=\"blue\")\n",
    "scatter(x_2, f(x_2), color=\"green\")"
   ]
  },
  {
   "cell_type": "code",
   "execution_count": 43,
   "metadata": {},
   "outputs": [
    {
     "data": {
      "text/plain": [
       "-0.0018953061344934522"
      ]
     },
     "execution_count": 43,
     "metadata": {},
     "output_type": "execute_result"
    }
   ],
   "source": [
    "# El error es: \n",
    "f(x_2)  "
   ]
  },
  {
   "cell_type": "markdown",
   "metadata": {},
   "source": [
    "Para acercarnos tanto como queramos vamos a definir un valor de error por debajo del cuál estaremos satisfechos. Y vamos a iterar una y otra vez hasta llegar a este valor."
   ]
  },
  {
   "cell_type": "code",
   "execution_count": 82,
   "metadata": {},
   "outputs": [
    {
     "name": "stdout",
     "output_type": "stream",
     "text": [
      "1.976060935799782 0.19264495222124794\n",
      "x =  2.000473508632498  error =  0.003787620532967074\n",
      "x =  1.9999871657446178  error =  0.00010267437249196827\n",
      "x =  2.000000345930127  error =  2.7674407783461018e-06\n",
      "x =  1.9999999906745038  error =  7.460396939847012e-08\n",
      "x =  2.000000000251393  error =  2.0111450281647427e-09\n",
      "x =  1.999999999993223  error =  5.4216187095426894e-11\n"
     ]
    }
   ],
   "source": [
    "err = 1e-10\n",
    "x_old = 1.5\n",
    "epsilon = 0.1\n",
    "\n",
    "\n",
    "x_new = x_old - f(x_old) / derivada_f(x_old,epsilon)\n",
    "print(x_new,abs(f(x_new)))\n",
    "\n",
    "#for i in range(10):\n",
    "while ( abs( f(x_new) ) > err ):\n",
    "    x_old = x_new\n",
    "    x_new = x_old - f(x_old) / derivada_f(x_old, epsilon)\n",
    "    print(\"x = \", x_new, \" error = \" , abs(f(x_new)))"
   ]
  },
  {
   "cell_type": "markdown",
   "metadata": {},
   "source": [
    "Organicemos esto en una función, y podemos calcular fácilmente los ceros de nuestra función."
   ]
  },
  {
   "cell_type": "code",
   "execution_count": 83,
   "metadata": {},
   "outputs": [],
   "source": [
    "\n",
    "def NewtonRaphson(x_0):\n",
    "    \n",
    "    err = 1e-10\n",
    "    x_old = x_0\n",
    "    epsilon = 0.1\n",
    "\n",
    "\n",
    "    x_new = x_old - f(x_old) / derivada_f(x_old,epsilon)\n",
    "    print(x_new,abs(f(x_new)))\n",
    "\n",
    "    #for i in range(10):\n",
    "    while ( abs( f(x_new) ) > err ):\n",
    "        x_old = x_new\n",
    "        x_new = x_old - f(x_old) / derivada_f(x_old, epsilon)\n",
    "        print(\"x = \", x_new, \" error = \" , abs(f(x_new)))\n",
    "        \n",
    "    return x_new"
   ]
  },
  {
   "cell_type": "code",
   "execution_count": 84,
   "metadata": {},
   "outputs": [
    {
     "name": "stdout",
     "output_type": "stream",
     "text": [
      "1.9900990099009892 0.07940300941181988\n",
      "x =  2.000236927302111  error =  0.0018953061344934522\n",
      "x =  1.9999935955846835  error =  5.1235404564958865e-05\n",
      "x =  2.0000001726351893  error =  1.381081454434439e-06\n",
      "x =  1.9999999953461538  error =  3.7230769621716784e-08\n",
      "x =  2.0000000001254565  error =  1.0036522723706993e-09\n",
      "x =  1.999999999996618  error =  2.705569102092809e-11\n"
     ]
    }
   ],
   "source": [
    "# Veamos la raíz cercana a 1\n",
    "\n",
    "raiz_1 = NewtonRaphson(1)"
   ]
  },
  {
   "cell_type": "code",
   "execution_count": 85,
   "metadata": {},
   "outputs": [
    {
     "name": "stdout",
     "output_type": "stream",
     "text": [
      "-2.234303215926493 6.185119929414296\n",
      "x =  -2.0117405705168374  error =  0.2831537206966405\n",
      "x =  -1.9995575681097364  error =  0.010616407993155583\n",
      "x =  -2.0000191252854034  error =  0.00045901050745344497\n",
      "x =  -1.999999177306626  error =  1.9744634209959847e-05\n",
      "x =  -2.000000035396505  error =  8.495161286484013e-07\n",
      "x =  -1.999999998477074  error =  3.655022415739403e-08\n",
      "x =  -2.0000000000655236  error =  1.5725660773998295e-09\n",
      "x =  -1.999999999997181  error =  6.765787929899727e-11\n"
     ]
    }
   ],
   "source": [
    "# La raíz cercana a -3\n",
    "\n",
    "raiz_2 = NewtonRaphson(-3)"
   ]
  },
  {
   "cell_type": "code",
   "execution_count": 86,
   "metadata": {},
   "outputs": [
    {
     "name": "stdout",
     "output_type": "stream",
     "text": [
      "5.23712733536504 28.982804022697586\n",
      "x =  4.465623322400156  error =  7.422869996606141\n",
      "x =  4.112994181696085  error =  1.4595143352600752\n",
      "x =  4.013640636187328  error =  0.1651787079643471\n",
      "x =  4.00096665720099  error =  0.011607362724299377\n",
      "x =  4.000061653260199  error =  0.0007398695316225803\n",
      "x =  4.000003900606605  error =  4.680740097579107e-05\n",
      "x =  4.000000246651206  error =  2.9598149602077883e-06\n",
      "x =  4.000000015596247  error =  1.8715496547277993e-07\n",
      "x =  4.00000000098618  error =  1.1834160326138453e-08\n",
      "x =  4.000000000062358  error =  7.482974240558214e-10\n",
      "x =  4.000000000003943  error =  4.7311488060710626e-11\n"
     ]
    }
   ],
   "source": [
    "# Y la raíz cercana a 6.6\n",
    "\n",
    "raiz_3 = NewtonRaphson(6.6)"
   ]
  },
  {
   "cell_type": "code",
   "execution_count": 87,
   "metadata": {},
   "outputs": [
    {
     "data": {
      "text/plain": [
       "<matplotlib.collections.PathCollection at 0x7f7727849240>"
      ]
     },
     "execution_count": 87,
     "metadata": {},
     "output_type": "execute_result"
    },
    {
     "data": {
      "image/png": "[encoded data removed]",
      "text/plain": [
       "<Figure size 432x288 with 1 Axes>"
      ]
     },
     "metadata": {
      "needs_background": "light"
     },
     "output_type": "display_data"
    }
   ],
   "source": [
    "plot(x,f(x))\n",
    "plt.axhline(0, color=\"black\")\n",
    "scatter(raiz_1, f(raiz_1), color=\"red\")\n",
    "scatter(raiz_2, f(raiz_2), color=\"blue\")\n",
    "scatter(raiz_3, f(raiz_3), color=\"green\")"
   ]
  },
  {
   "cell_type": "code",
   "execution_count": null,
   "metadata": {},
   "outputs": [],
   "source": []
  }
 ],
 "metadata": {
  "kernelspec": {
   "display_name": "Python 3",
   "language": "python",
   "name": "python3"
  },
  "language_info": {
   "codemirror_mode": {
    "name": "ipython",
    "version": 3
   },
   "file_extension": ".py",
   "mimetype": "text/x-python",
   "name": "python",
   "nbconvert_exporter": "python",
   "pygments_lexer": "ipython3",
   "version": "3.6.6"
  }
 },
 "nbformat": 4,
 "nbformat_minor": 2
}
