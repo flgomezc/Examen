{
 "cells": [
  {
   "cell_type": "markdown",
   "metadata": {},
   "source": [
    "Escriba en un notebook de jupyter una explicaci´on de alg´un m´etodo para\n",
    "encontar la recta que mejor ajusta a un conjunto de puntos. Deje en claro\n",
    "que requisitos anteriores deben tener los estudiantes (por ejemplo, ´algebra\n",
    "lineal, ecuaciones diferenciales, transformada de Fourier, etc) para entender\n",
    "el m´etodo propuesto. Para explicar los conceptos cree un conjunto de\n",
    "puntos y haga el ajuste de la recta"
   ]
  },
  {
   "cell_type": "code",
   "execution_count": 1,
   "metadata": {},
   "outputs": [
    {
     "name": "stdout",
     "output_type": "stream",
     "text": [
      "Populating the interactive namespace from numpy and matplotlib\n"
     ]
    }
   ],
   "source": [
    "%pylab inline"
   ]
  },
  {
   "cell_type": "code",
   "execution_count": 2,
   "metadata": {},
   "outputs": [],
   "source": [
    "x = linspace(0,10,20)"
   ]
  },
  {
   "cell_type": "code",
   "execution_count": 3,
   "metadata": {},
   "outputs": [],
   "source": [
    "M = 3.5\n",
    "B = -10"
   ]
  },
  {
   "cell_type": "code",
   "execution_count": 4,
   "metadata": {},
   "outputs": [
    {
     "data": {
      "text/plain": [
       "array([-6.85609164,  3.17313857,  5.41552458, -1.69898273, -1.58108512,\n",
       "        6.48199461,  0.94913788,  2.19005934,  2.11756724,  4.4955647 ,\n",
       "        4.53066328,  6.38939553,  4.76894682,  4.05900592,  7.704468  ,\n",
       "        7.75179029, 11.23088046, 11.11117815,  4.41889606,  9.06442741])"
      ]
     },
     "execution_count": 4,
     "metadata": {},
     "output_type": "execute_result"
    }
   ],
   "source": [
    "random.normal(x,3)"
   ]
  },
  {
   "cell_type": "code",
   "execution_count": 5,
   "metadata": {},
   "outputs": [],
   "source": [
    "y = random.normal(M*x + B,3)"
   ]
  },
  {
   "cell_type": "code",
   "execution_count": 6,
   "metadata": {},
   "outputs": [
    {
     "data": {
      "text/plain": [
       "Text(0.5, 1.0, 'Datos Experimentales')"
      ]
     },
     "execution_count": 6,
     "metadata": {},
     "output_type": "execute_result"
    },
    {
     "data": {
      "image/png": "[encoded data removed]",
      "text/plain": [
       "<Figure size 432x288 with 1 Axes>"
      ]
     },
     "metadata": {
      "needs_background": "light"
     },
     "output_type": "display_data"
    }
   ],
   "source": [
    "\n",
    "scatter(x,y)\n",
    "plt.title(\"Datos Experimentales\")"
   ]
  },
  {
   "cell_type": "code",
   "execution_count": 7,
   "metadata": {},
   "outputs": [],
   "source": [
    "m_0 = 1\n",
    "b_0 = 1\n"
   ]
  },
  {
   "cell_type": "markdown",
   "metadata": {},
   "source": [
    "# Método Markov-Chain Monte Carlo"
   ]
  },
  {
   "cell_type": "code",
   "execution_count": 8,
   "metadata": {},
   "outputs": [
    {
     "data": {
      "text/plain": [
       "Text(0.5, 1.0, 'Condición inicial')"
      ]
     },
     "execution_count": 8,
     "metadata": {},
     "output_type": "execute_result"
    },
    {
     "data": {
      "image/png": "[encoded data removed]",
      "text/plain": [
       "<Figure size 432x288 with 1 Axes>"
      ]
     },
     "metadata": {
      "needs_background": "light"
     },
     "output_type": "display_data"
    }
   ],
   "source": [
    "scatter(x,y)\n",
    "plot(x, m_0 * x +b_0, color = \"red\")\n",
    "plt.title(\"Condición inicial\")"
   ]
  },
  {
   "cell_type": "code",
   "execution_count": 9,
   "metadata": {},
   "outputs": [
    {
     "data": {
      "text/plain": [
       "array([ -6.16002384,   0.49709688, -13.42039066,  -5.04593378,\n",
       "        -3.8877545 ,  -2.20894008,   1.92270932,  -2.93655157,\n",
       "        -0.11308148,   2.21420117,   2.75970506,   2.25798659,\n",
       "         4.00223559,   3.78407244,   7.50749053,  11.78348402,\n",
       "        12.95400135,  14.34984146,  13.8088707 ,  16.15378411])"
      ]
     },
     "execution_count": 9,
     "metadata": {},
     "output_type": "execute_result"
    }
   ],
   "source": [
    "y - m_0*x + b_0"
   ]
  },
  {
   "cell_type": "markdown",
   "metadata": {},
   "source": [
    "Likelihood\n",
    "\n",
    "$ L = e^{- (f(x,m,b) - y(x))^2 }$\n",
    "\n",
    "Podemos trabajar con $\\ln(L)$"
   ]
  },
  {
   "cell_type": "code",
   "execution_count": 10,
   "metadata": {},
   "outputs": [
    {
     "name": "stdout",
     "output_type": "stream",
     "text": [
      "1183.7180220279006\n"
     ]
    }
   ],
   "source": [
    "a = 0\n",
    "\n",
    "m = 1\n",
    "b = 1\n",
    "\n",
    "for i in range( len(x)):\n",
    "    a += ( y[i] - m * x[i] - b)**2\n",
    "    \n",
    "print(a)"
   ]
  },
  {
   "cell_type": "markdown",
   "metadata": {},
   "source": [
    "Variamos los parámetros aleatoriamente"
   ]
  },
  {
   "cell_type": "code",
   "execution_count": 11,
   "metadata": {},
   "outputs": [
    {
     "name": "stdout",
     "output_type": "stream",
     "text": [
      "m_new =  0.37929060599187747 , b_new =  -0.31039249118240564\n"
     ]
    }
   ],
   "source": [
    "m_new = m + random.normal(0,1)\n",
    "b_new = b + random.normal(0,1)\n",
    "\n",
    "print(\"m_new = \", m_new, \", b_new = \", b_new)"
   ]
  },
  {
   "cell_type": "code",
   "execution_count": 12,
   "metadata": {},
   "outputs": [
    {
     "name": "stdout",
     "output_type": "stream",
     "text": [
      "2350.811464191399\n"
     ]
    }
   ],
   "source": [
    "# Calculamos el nuevo valor de a\n",
    "\n",
    "a_new = 0\n",
    "\n",
    "for i in range( len(x)):\n",
    "    a_new += ( y[i] - m_new * x[i] - b_new )**2\n",
    "    \n",
    "print(a_new)"
   ]
  },
  {
   "cell_type": "markdown",
   "metadata": {},
   "source": [
    "Comparamos los nuevos parámetros, si nos gustan los aceptamos, si no, los dejamos.\n",
    "\n",
    "DEJAMOS REGISTRO DE TODOS LOS VALORES!!!"
   ]
  },
  {
   "cell_type": "markdown",
   "metadata": {},
   "source": [
    "Si mejora el ajuste, los aceptamos inmediatamente, si no mejora, tenemos una probabilidad de aceptar estos valores."
   ]
  },
  {
   "cell_type": "code",
   "execution_count": 31,
   "metadata": {},
   "outputs": [],
   "source": [
    "\n",
    "\n",
    "b_old = 0\n",
    "m_old = 0\n",
    "\n",
    "a_old = 0\n",
    "for i in range( len(x)):\n",
    "    a_old -= ( y[i] - m_old * x[i] - b_old )**2\n",
    "\n",
    "historic=[]\n",
    "\n",
    "N_steps = 1000\n",
    "\n",
    "for counter in range(N_steps):\n",
    "    m_new = m_old + random.normal(0 , 1)\n",
    "    b_new = b_old + random.normal(0 , 1)\n",
    "\n",
    "    a_new = 0\n",
    "\n",
    "    for i in range( len(x)):\n",
    "        a_new -= ( y[i] - m_new * x[i] - b_new )**2\n",
    "\n",
    "    if (a_new > a_old):\n",
    "        m_old = m_new\n",
    "        b_old = b_new\n",
    "        a_old = a_new\n",
    "    else:\n",
    "        if (rand() > 0.7 ):\n",
    "            m_old = m_new\n",
    "            b_old = b_new\n",
    "            a_old = a_new\n",
    "\n",
    "\n",
    "    historic.append([counter, m_new, b_new, a_old])"
   ]
  },
  {
   "cell_type": "code",
   "execution_count": 37,
   "metadata": {},
   "outputs": [
    {
     "data": {
      "text/plain": [
       "[2, 0.9156166923154181, 2.136614990496558, -1238.1106702498382]"
      ]
     },
     "execution_count": 37,
     "metadata": {},
     "output_type": "execute_result"
    }
   ],
   "source": [
    "historic[2][:]"
   ]
  },
  {
   "cell_type": "code",
   "execution_count": null,
   "metadata": {},
   "outputs": [],
   "source": []
  }
 ],
 "metadata": {
  "kernelspec": {
   "display_name": "Python 3",
   "language": "python",
   "name": "python3"
  },
  "language_info": {
   "codemirror_mode": {
    "name": "ipython",
    "version": 3
   },
   "file_extension": ".py",
   "mimetype": "text/x-python",
   "name": "python",
   "nbconvert_exporter": "python",
   "pygments_lexer": "ipython3",
   "version": "3.6.6"
  }
 },
 "nbformat": 4,
 "nbformat_minor": 2
}
